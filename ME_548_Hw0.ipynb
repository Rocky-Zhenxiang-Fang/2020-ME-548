{
  "nbformat": 4,
  "nbformat_minor": 0,
  "metadata": {
    "colab": {
      "name": "ME 548 Hw0.ipynb",
      "provenance": [],
      "collapsed_sections": [],
      "include_colab_link": true
    },
    "kernelspec": {
      "name": "python3",
      "display_name": "Python 3"
    }
  },
  "cells": [
    {
      "cell_type": "markdown",
      "metadata": {
        "id": "view-in-github",
        "colab_type": "text"
      },
      "source": [
        "<a href=\"https://colab.research.google.com/github/RockyZhenXiang/2020-ME-548/blob/master/ME_548_Hw0.ipynb\" target=\"_parent\"><img src=\"https://colab.research.google.com/assets/colab-badge.svg\" alt=\"Open In Colab\"/></a>"
      ]
    },
    {
      "cell_type": "markdown",
      "metadata": {
        "id": "4qz2av61Xgua",
        "colab_type": "text"
      },
      "source": [
        "# 548 20sp hw0 due 5p Fri Apr 3 on Canvas\n",
        "\n",
        "This assignment will be graded on participation; so long as you make an effort on each problem and upload a legible pdf to Canvas, you will receive full credit.\n",
        "\n",
        "**Important:** before you do any work in this Colaboratory notebook, click \"File -> Save a copy in Drive ...\" and rename the file to something memorable.\n",
        "\n",
        "**Also important:** To produce a .pdf for submission to Canvas from this Colaboratory notebook, click \"File -> Print\" (or press Ctrl/Cmd + P), and choose \"Save to PDF\" (on OSX) or \"Microsoft Print to PDF\" (on Windows) as your printer."
      ]
    },
    {
      "cell_type": "markdown",
      "metadata": {
        "id": "JLms0q_OolBH",
        "colab_type": "text"
      },
      "source": [
        "# logistics\n",
        "\n",
        "***Purpose:*** *provide feedback so we can better support your learning; graded solely on participation.*\n",
        "\n",
        "a. Approximately how many hours did you spend on this assignment?\n",
        "\n",
        "A: Around 10 hours\n",
        "\n",
        "b. Were there specific problems that took much longer than others?\n",
        "\n",
        "A: The most difficult part is (b), because it is the first problem needed to coding.\n",
        "\n",
        "c. What class meeting(s) did you participate in this week?\n",
        "    \n",
        "A: I participated the online zoom meeting on Tuesday \n",
        "\n",
        "d. What timezone(s) were you working in this week?\n",
        "    \n",
        "A: I will spend my quarter at Taiwan, which is at UTC+8. It is 15 hours ahead of Seattle."
      ]
    },
    {
      "cell_type": "markdown",
      "metadata": {
        "id": "UWtcsgf5Xgub",
        "colab_type": "text"
      },
      "source": [
        "# welcome to Linear Multivariable Control\n",
        "\n",
        "***Purpose:*** *learn more about your background and goals so we can better support your learning; graded solely on participation.*\n",
        "\n",
        "a. What were you doing before you enrolled in your current degree program?\n",
        "\n",
        "A: Last year, I was studing for a bachelor degree in National Taiwan University before enrolled in master of mechanical engineering at UW. Also I serverd in mandatory military in between those two experience.\n",
        "\n",
        "b. What do you want to do after you graduate?\n",
        "\n",
        "A: I am planning to be a engineer after graduate. \n",
        "  If possible, I will like to do something related to sport or biomechanics.\n",
        "\n",
        "c. Why did you enroll in this course?\n",
        "\n",
        "  A: I feel like this is one of the fundamental course in control, so I wnat to learn it. \n",
        "\n",
        "d. What do you want to learn in this course?\n",
        "\n",
        "  A: Honestly, I am not so fimilar with the content of the course, \n",
        "   so I will say I am happy to learn anything from the course if it is new for me.\n",
        "\n",
        "e. Where did you take graduate-level linear systems theory (547), and what textbook(s) did you use?\n",
        "\n",
        "  A: I took ME 547 in the last quarter. There is a reference textbook \n",
        "  Linear Systems Theory and Design (4th Ed) by Chi-Tsong Chen, \n",
        "   but the insturctor basicly used his note in teaching. \n",
        "\n",
        "f. What is/are your preferred scientific computing tool(s)?  (e.g. Python, Julia, Matlab, ...)\n",
        "\n",
        "  A: I am most fimilar with Matlab, most of the courses I took required us using Matlab to finish homeworks. \n",
        "  As for Python, I had participated an online course.\n",
        "\n",
        "g. Log in to Canvas and edit your Profile; add a headshot photo, specify your preferred name and pronouns.  (see my example at https://canvas.uw.edu/about/3510568)\n",
        "\n",
        "***Bonus:*** record a video using [Panopto](https://itconnect.uw.edu/learn/tools/panopto/) to answer the questions above and introduce yourself to us and your classmates -- see [Prof Burden's introduction video](https://uw.hosted.panopto.com/Panopto/Pages/Viewer.aspx?id=5dd66c10-c623-46da-9411-ab8d01659996) for an example."
      ]
    },
    {
      "cell_type": "markdown",
      "metadata": {
        "id": "oL488VtW8UNR",
        "colab_type": "text"
      },
      "source": [
        "# simulation, linearization, visualization\n",
        "\n",
        "Consider the following continuous-time nonlinear system (CNL) that models a pendulum comprised of a mass $m$ affixed to the end of a massless rigid rod of length $\\ell$ whose other end is pinned to a direct-drive DC motor that applies torque $u$ and generates [back-EMF](https://en.wikipedia.org/wiki/Counter-electromotive_force) with constant $b$:\n",
        "$$m \\ell^2 \\ddot{q} + m g \\sin q = u - b \\dot{q}.$$\n",
        "\n",
        "***Purpose:***  *learn how to simulate a nonlinear system, linearize a nonlinear system at an equilibrium, and compare simulation results from the nonlinear system and its linearization -- these are foundational techniques we will use extensively throughout the quarter.*\n",
        "\n",
        "###(a)\n",
        " *If a constant input torque $u(t) = u_0$ with $|u_0| < m g$ is applied, (CNL) has two equilibria -- in what follows, we will focus on the equilibrium in the angle range $\\pm\\frac{\\pi}{2}$ and denote the equilibrium angle by $q_0(u_0)$.*\n",
        "***Give an analytic expression for $q_0(u_0)$.***\n",
        "\n",
        "### Answer(a):\n",
        "For equilibrium, the system is not moveing. Thus, both $\\dot{q}$ and $\\ddot{q}$ = 0. By apply this condition and $q_0(u_0)$, the equation become:\n",
        "$$ mgsin(q_0(u_0)) = u_0$$\n",
        "By rearrenging the equation, $q_0(u_0)$ can be expressed as:\n",
        "$$ q_0(u_0) = \\arcsin(\\frac{u_0}{mg})$$\n"
      ]
    },
    {
      "cell_type": "markdown",
      "metadata": {
        "id": "cR1AXE4K-vce",
        "colab_type": "text"
      },
      "source": [
        "###(b)  \n",
        "*Verify your answer from (a) for $u_0 = \\frac{1}{2} m g\\ \\text{N}$ by simulating (CNL) from initial condition $q(0) = 0\\ \\text{rad}$, $\\dot{q}(0) = 0\\ \\text{rad/sec}$ for $t = 4\\sqrt{\\frac{g}{\\ell}}\\ \\text{sec}$ -- use parameter values $m = 1\\ \\text{kg}$, $\\ell = 1\\ \\text{m}$, $g = 9.81\\ \\text{m/sec}^2$, $b = 1$.*\n",
        "***Plot $q$ and $\\dot{q}$ versus time, and (separately) plot $\\dot{q}$ versus $q$ -- label the axes and include a legend in both plots.***\n",
        "\n",
        "### Answer (B):\n",
        "The ODE can be written as \n",
        "$$ m\\ell^2\\ddot{q} + b\\dot{q}+mg\\sin q = u $$\n",
        "\n",
        "$$ \\ddot{q} = \\frac{u}{m \\ell^2}-\\frac{b\\dot{q}}{m \\ell^2}-\\frac{g\\sin q}{\\ell^2} $$\n",
        "\n",
        "By using the code provided below, the plots are:\n",
        "\n",
        "![alt text](https://drive.google.com/uc?id=1S9E-Tq2eXfvGQpSx-0jVxwHTcuKc-6eA)\n",
        "![alt text](https://drive.google.com/uc?id=1yTq931fOqJRo37-6eqs6zSE3a5SHb9da)\n",
        "\n",
        "By caculation, $q_0 = 0.5236 $, which satisifies our simulation\n",
        "\n",
        "\n"
      ]
    },
    {
      "cell_type": "code",
      "metadata": {
        "id": "Qk3EqNOCLoNh",
        "colab_type": "code",
        "colab": {}
      },
      "source": [
        "g, l, b, m = 9.81, 1, 1, 1\n",
        "# define dynamic system\n",
        "def f(t,x,u):\n",
        "  \"\"\"\n",
        "  x is a 2*1 vector\n",
        "  u is a 1*1 number\n",
        "  outupt is a 2*1 vector\n",
        "  \"\"\"\n",
        "  q,dq = x[0], x[1]\n",
        "  return np.hstack([dq,(u/(m*l**2))-(b*dq/(m*l**2))-(g*np.sin(q)/l**2)])"
      ],
      "execution_count": 0,
      "outputs": []
    },
    {
      "cell_type": "code",
      "metadata": {
        "id": "9DJ9ZBqabEs_",
        "colab_type": "code",
        "colab": {}
      },
      "source": [
        "# set inital condition and input\n",
        "x0 = np.array([0, 0])\n",
        "u0 = 0.5*m*g"
      ],
      "execution_count": 0,
      "outputs": []
    },
    {
      "cell_type": "code",
      "metadata": {
        "id": "mxluQdrAcKf1",
        "colab_type": "code",
        "colab": {}
      },
      "source": [
        "# run simulation\n",
        "dt = 1e-2 # coarse timestep\n",
        "t = 4*(g/l)**0.5\n",
        "sim = simulation_SISO\n",
        "t_,x_ = sim(f,t,x0,u0)"
      ],
      "execution_count": 0,
      "outputs": []
    },
    {
      "cell_type": "code",
      "metadata": {
        "id": "ovVbf-hhz3i0",
        "colab_type": "code",
        "colab": {
          "base_uri": "https://localhost:8080/",
          "height": 34
        },
        "outputId": "86b15efc-fb5b-4f0d-f7cf-8c85f85f2b69"
      },
      "source": [
        "# caculate q0\n",
        "q0 = np.arcsin(u0/(m*g))\n",
        "print(q0)"
      ],
      "execution_count": 33,
      "outputs": [
        {
          "output_type": "stream",
          "text": [
            "0.5235987755982989\n"
          ],
          "name": "stdout"
        }
      ]
    },
    {
      "cell_type": "code",
      "metadata": {
        "id": "Fup4uBqpsLYp",
        "colab_type": "code",
        "colab": {}
      },
      "source": [
        "# plot q and dq versus time\n",
        "fig = plt.figure(figsize = (10,5))\n",
        "plt.plot(t_,x_[:,0], label = \"q\");\n",
        "plt.plot(t_,x_[:,1], label = \"dq\");\n",
        "plt.title(\"q and dq versus time\")\n",
        "plt.ylabel(\"Value\")\n",
        "plt.xlabel(\"Time\")\n",
        "plt.legend()"
      ],
      "execution_count": 0,
      "outputs": []
    },
    {
      "cell_type": "code",
      "metadata": {
        "id": "IAWCLmUMv-uu",
        "colab_type": "code",
        "colab": {}
      },
      "source": [
        "# plot q verses dq\n",
        "fig = plt.figure(figsize = (10,5))\n",
        "plt.plot(x_[:,0],x_[:,1], label = \"q\");\n",
        "plt.title(\"q versus dq\")\n",
        "plt.ylabel(\"dq\")\n",
        "plt.xlabel(\"q\")"
      ],
      "execution_count": 0,
      "outputs": []
    },
    {
      "cell_type": "markdown",
      "metadata": {
        "id": "oHTuIvclxnIY",
        "colab_type": "text"
      },
      "source": [
        "###(c) \n",
        "*Verify your answer from (a) for $u_0 \\in \\left( \\frac{1}{4} m g, \\frac{3}{4} m g \\right)$ by simulating (CNL) from initial condition $q(0) = 0\\ \\text{rad}$, $\\dot{q}(0) = 0\\ \\text{rad/sec}$ for $t = 4\\sqrt{\\frac{g}{\\ell}}\\ \\text{sec}$; let $q(t;u_0)$ denote the angle returned by the simulation at the final time $t$.*\n",
        "***Plot $q(t;u_0)$ versus $u_0$ and $q_0(u_0)$ versus $u_0$ -- label the axes and include a legend.***\n",
        "###Answer(c)\n",
        "![alt text](https://drive.google.com/uc?id=1VT76fw1E_ju7WAFBkF1RV3eEqH2pXGSf)\n",
        "\n",
        "![alt text](https://drive.google.com/uc?id=1aukxXI9ngeTlln0dddtE4qNWyY22jZPd)"
      ]
    },
    {
      "cell_type": "code",
      "metadata": {
        "id": "_dRtnyJhxxoZ",
        "colab_type": "code",
        "colab": {}
      },
      "source": [
        "# set inital condition and input\n",
        "x0 = np.array([0, 0])\n",
        "u = np.linspace(0.25*m*g, 0.75*m*g,50)"
      ],
      "execution_count": 0,
      "outputs": []
    },
    {
      "cell_type": "code",
      "metadata": {
        "id": "E-F7i3AGz8h8",
        "colab_type": "code",
        "colab": {}
      },
      "source": [
        "# run simulation\n",
        "q = []\n",
        "\n",
        "for i in range(50):\n",
        "  dt = 1e-2 # coarse timestep\n",
        "  t = 4*(g/l)**0.5\n",
        "  u0 = u[i]\n",
        "  sim = simulation_SISO\n",
        "  t_,x_ = sim(f,t,x0,u0)\n",
        "  q.append(x_[-1])\n"
      ],
      "execution_count": 0,
      "outputs": []
    },
    {
      "cell_type": "code",
      "metadata": {
        "id": "A3KtwQPhJ8SF",
        "colab_type": "code",
        "colab": {}
      },
      "source": [
        "# caculate q0\n",
        "q0 = np.arcsin(u/(m*g))\n"
      ],
      "execution_count": 0,
      "outputs": []
    },
    {
      "cell_type": "code",
      "metadata": {
        "id": "tZhkIK58MTtR",
        "colab_type": "code",
        "colab": {
          "base_uri": "https://localhost:8080/",
          "height": 389
        },
        "outputId": "423b4709-4b79-4299-fea7-a721a6072f27"
      },
      "source": [
        "# plot q(t;u0) verses u0\n",
        "fig = plt.figure(figsize = (10,5))\n",
        "plt.plot(u,np.array(q)[:,0], label = \"q\");\n",
        "plt.title(\"q(t;u0) verses u0\")\n",
        "plt.ylabel(\"Value\")\n",
        "plt.xlabel(\"u0\")"
      ],
      "execution_count": 37,
      "outputs": [
        {
          "output_type": "execute_result",
          "data": {
            "text/plain": [
              "Text(0.5, 0, 'u0')"
            ]
          },
          "metadata": {
            "tags": []
          },
          "execution_count": 37
        },
        {
          "output_type": "display_data",
          "data": {
            "image/png": "[encoded data removed]",
            "text/plain": [
              "<Figure size 720x360 with 1 Axes>"
            ]
          },
          "metadata": {
            "tags": []
          }
        }
      ]
    },
    {
      "cell_type": "code",
      "metadata": {
        "id": "2jv5UVRJaW2e",
        "colab_type": "code",
        "colab": {}
      },
      "source": [
        "# plot q0 verses u0\n",
        "fig = plt.figure(figsize = (10,5))\n",
        "plt.plot(u,q0, label = \"q\");\n",
        "plt.title(\"q0 verses u0\")\n",
        "plt.ylabel(\"Value\")\n",
        "plt.xlabel(\"u0\")"
      ],
      "execution_count": 0,
      "outputs": []
    },
    {
      "cell_type": "markdown",
      "metadata": {
        "id": "-IUc7t_TbPO-",
        "colab_type": "text"
      },
      "source": [
        "###(d)\n",
        " *Linearize (CNL) about the equilibrium $x_0$ from (a) to obtain a continuous-time linear time-invariant system (CLTI)\n",
        "$$\\delta\\dot{x} = A(u_0) \\delta x + B(u_0) \\delta u$$\n",
        "that approximates (CNL) when $x \\approx x_0 + \\delta x$, $u \\approx u_0 + \\delta u$.*\n",
        "***Give analytic expressions for $A(u_0)$, $B(u_0)$.***\n",
        "\n",
        "###Answer (d)\n",
        "From observation, the ODE only have a nonlinear term, $\\sin(q)$. Thus, I will use Taylar expansion to linearlize this term around the equilibrium point, $q_0(u_0) = \\arcsin(\\frac{u_0}{mg})$. By this, we get \n",
        "$$\\sin(q) \\approx \\sin(q_0) + \\cos(q_0)(q-q_0)$$\n",
        "\n",
        "Since $q_0 = \\arcsin(\\frac{u_0}{mg})$, the previous equation can be witten as:\n",
        "$$\\sin(q) \\approx \\frac{u_0}{mg} + \\cos(q_0)(q-q_0)$$\n",
        "\n",
        "Take $q = q_0+\\delta q$ to repesent small oscillation, the ODE turns into:\n",
        "$$ m\\ell^2{\\delta\\ddot{q}}^2+b\\delta\\dot{q}+mg \\cos(q_0)\\delta q = u-u_0 $$\n",
        "\n",
        "Assume $x = [q, \\dot{q}]$,  $x \\approx x_0 + \\delta x$, $u \\approx u_0 + \\delta u$, the system can be written in the following matrix from\n",
        "$$ \\delta\\dot{x}\n",
        " =\n",
        "  \\begin{bmatrix}\n",
        "   0  &   1 \\\\\n",
        "   -\\frac{g}{\\ell^2}\\cos(\\arcsin(\\frac{u_0}{mg})) & -\\frac{b}{m\\ell^2} \n",
        "   \\end{bmatrix} \\delta x\n",
        "   +\n",
        "   \\begin{bmatrix}\n",
        "   0\\\\\n",
        "   \\frac{1}{m\\ell^2}\n",
        "   \\end{bmatrix} \\delta u\n",
        "$$\n",
        "\n"
      ]
    },
    {
      "cell_type": "markdown",
      "metadata": {
        "id": "MkqyLqJIxijC",
        "colab_type": "text"
      },
      "source": [
        "###(e)\n",
        " If a constant $\\delta u(t) = \\delta u_0$ is applied, (CLTI) has one equilibrium, denoted $\\delta x_0(\\delta u_0)$.\n",
        "***Give an analytic expression for $\\delta x_0(\\delta u_0)$.***\n",
        "### Answer (e)\n",
        "For equilibrium, $\\dot{x} = \\ddot{x} = 0$. Thus, the ODE can be written as \n",
        "$$ 0\n",
        " =\n",
        "  \\begin{bmatrix}\n",
        "   0  &   1 \\\\\n",
        "   -\\frac{g}{\\ell^2}\\cos(\\arcsin(\\frac{u_0}{mg})) & -\\frac{b}{m\\ell^2} \n",
        "   \\end{bmatrix} \n",
        "   \\begin{bmatrix} \\delta x_0(u_0) \\\\ 0 \\end{bmatrix}\n",
        "   +\n",
        "   \\begin{bmatrix}\n",
        "   0\\\\\n",
        "   \\frac{1}{m\\ell^2}\n",
        "   \\end{bmatrix} \\delta u_0\n",
        "$$\n",
        "\n",
        "The only equation left is:\n",
        "$$ \\frac{\\delta u_0}{m} = g\\cos(\\arcsin(\\frac{u_0}{mg}))\\delta x_0(u_0)$$\n",
        "\n",
        "After rearrangment, we get:\n",
        "$$\\delta x_0(u_0) = \\frac{\\delta u_0}{mg\\cos(\\arcsin(\\frac{u_0}{mg}))} $$"
      ]
    },
    {
      "cell_type": "markdown",
      "metadata": {
        "id": "gK6DA29y0tau",
        "colab_type": "text"
      },
      "source": [
        "###(f) \n",
        "*Verify your answer from (e) by simulating (CLTI) with $u_0 = \\frac{1}{2} m g\\ \\text{N}$, $\\delta u_0 = \\frac{1}{4} m g\\ \\text{N}$ from initial condition $\\delta x(0) = 0$ for $t = 4\\sqrt{\\frac{g}{\\ell}}\\ \\text{sec}$.*\n",
        "***Plot $\\delta x$ and $\\delta x_0(\\delta u_0)$ versus time -- label the axes and include a legend.***\n",
        "\n",
        "###Answer (f)\n",
        "![alt text](https://drive.google.com/uc?id=1wL1Elq_1S65IRdEXNhqOqClntycvsfL7)"
      ]
    },
    {
      "cell_type": "code",
      "metadata": {
        "id": "p-nGtDWy0tOk",
        "colab_type": "code",
        "colab": {}
      },
      "source": [
        "g, l, b, m = 9.81, 1, 1, 1\n",
        "# define dynamic system\n",
        "def flinear(t,x,u0,du0):\n",
        "  \"\"\"\n",
        "  x is a 2*1 vector ;\n",
        "  u0 is a 1*1 number, preinput ;\n",
        "  du0 is the input ;\n",
        "  outupt is a 2*1 vector ;\n",
        "  \"\"\"\n",
        "  q,dq = x[0], x[1]\n",
        "  return np.hstack([dq,(du0/(m*l**2))-(b*dq/(m*l**2))-(g*np.cos(np.arcsin(u0/(m*g)))*q/l**2)])"
      ],
      "execution_count": 0,
      "outputs": []
    },
    {
      "cell_type": "code",
      "metadata": {
        "id": "Mw8oPqx31mMk",
        "colab_type": "code",
        "colab": {}
      },
      "source": [
        "# set inital condition and input\n",
        "x0 = np.array([0, 0])\n",
        "du0 = 0.25*m*g    #input\n",
        "u0 = 0.5*m*g      #preinput"
      ],
      "execution_count": 0,
      "outputs": []
    },
    {
      "cell_type": "code",
      "metadata": {
        "id": "GdX7lSbX2iIR",
        "colab_type": "code",
        "colab": {}
      },
      "source": [
        "# run simulation\n",
        "dt = 1e-4 # coarse timestep\n",
        "t = 4*(g/l)**0.5\n",
        "sim = simulation_Linear\n",
        "t_,x2_ = sim(flinear,t,x0,u0,du0)"
      ],
      "execution_count": 0,
      "outputs": []
    },
    {
      "cell_type": "code",
      "metadata": {
        "id": "f3bYHDa-6QU0",
        "colab_type": "code",
        "outputId": "37c9793a-57b9-4183-e8c8-64eb61606c64",
        "colab": {
          "base_uri": "https://localhost:8080/",
          "height": 34
        }
      },
      "source": [
        "# caculate dx0\n",
        "dx0 = du0/(m*g*np.cos(np.arcsin(u0/(m*g))))\n",
        "print(dx0)\n",
        "dx0_ = np.ones(125284)*dx0"
      ],
      "execution_count": 19,
      "outputs": [
        {
          "output_type": "stream",
          "text": [
            "0.2886751345948129\n"
          ],
          "name": "stdout"
        }
      ]
    },
    {
      "cell_type": "code",
      "metadata": {
        "id": "bUvV3nUz7HQb",
        "colab_type": "code",
        "outputId": "d71981af-bc7c-4504-b858-aa6a9411c330",
        "colab": {
          "base_uri": "https://localhost:8080/",
          "height": 389
        }
      },
      "source": [
        "# plot dx and dx0(du0) verse time\n",
        "fig = plt.figure(figsize = (10,5))\n",
        "plt.plot(t_,x2_[:,0], label = \"dx\");\n",
        "plt.plot(t_,dx0_, label = \"dx0(du0)\");\n",
        "plt.title(\"dx and dx0(du0) verse time\")\n",
        "plt.ylabel(\"Value\")\n",
        "plt.xlabel(\"Time\")\n",
        "plt.legend()"
      ],
      "execution_count": 20,
      "outputs": [
        {
          "output_type": "execute_result",
          "data": {
            "text/plain": [
              "<matplotlib.legend.Legend at 0x7ff2c13b06a0>"
            ]
          },
          "metadata": {
            "tags": []
          },
          "execution_count": 20
        },
        {
          "output_type": "display_data",
          "data": {
            "image/png": "[encoded data removed]",
            "text/plain": [
              "<Figure size 720x360 with 1 Axes>"
            ]
          },
          "metadata": {
            "tags": []
          }
        }
      ]
    },
    {
      "cell_type": "markdown",
      "metadata": {
        "id": "z54P-YnM-RvJ",
        "colab_type": "text"
      },
      "source": [
        "###(g) \n",
        "*Simulate (CLTI) with $u_0 = \\frac{1}{2} m g\\ \\text{N}$, $\\delta u_0 \\in \\left( -\\frac{1}{4} m g, +\\frac{1}{4} m g \\right)$ from initial condition $\\delta x(0) = 0$ for $t = 4\\sqrt{\\frac{g}{\\ell}}\\ \\text{sec}$ and compare with the result obtained in (c); let $\\delta q(t;\\delta u_0)$ denote the angle returned by the simulation at the final time $t$.*\n",
        "***Plot $q_0(u_0) + \\delta q_0(\\delta u_0)$ versus $u_0 + \\delta u_0$ on the plot from (c) -- label the axes and include a legend.***\n",
        "\n",
        "###Answer (g)\n",
        "![alt text](https://drive.google.com/uc?id=1Cizp2IlugQJZeJiznM3e_fMp3KE5qZzO)"
      ]
    },
    {
      "cell_type": "code",
      "metadata": {
        "id": "tPk5M8AwO5F3",
        "colab_type": "code",
        "colab": {}
      },
      "source": [
        "# set inital condition and input\n",
        "x0 = np.array([0, 0])\n",
        "du0 = np.linspace(-0.25*m*g, 0.25*m*g,50)\n",
        "u0 = 0.5*m*g"
      ],
      "execution_count": 0,
      "outputs": []
    },
    {
      "cell_type": "code",
      "metadata": {
        "colab_type": "code",
        "id": "VQVj5N9wMek3",
        "colab": {}
      },
      "source": [
        "# run simulation\n",
        "ql = []\n",
        "\n",
        "for i in range(50):\n",
        "  dt = 1e-2 # coarse timestep\n",
        "  t = 4*(g/l)**0.5\n",
        "  du = du0[i] \n",
        "  sim = simulation_Linear\n",
        "  t_,x2_ = sim(flinear,t,x0,u0,du)\n",
        "  ql.append(x2_[-1])\n"
      ],
      "execution_count": 0,
      "outputs": []
    },
    {
      "cell_type": "code",
      "metadata": {
        "id": "km91fU6dUFvx",
        "colab_type": "code",
        "colab": {}
      },
      "source": [
        "# caculate q0(u0)\n",
        "q0 = np.arcsin(u0/(m*g))"
      ],
      "execution_count": 0,
      "outputs": []
    },
    {
      "cell_type": "code",
      "metadata": {
        "id": "7QQKsrGQSPeO",
        "colab_type": "code",
        "colab": {
          "base_uri": "https://localhost:8080/",
          "height": 389
        },
        "outputId": "1640774c-46b6-442d-89e8-da34cf0c0c97"
      },
      "source": [
        "# plot q(t;u0) verses u0\n",
        "fig = plt.figure(figsize = (10,5))\n",
        "plt.plot(du0+u0,np.array(ql)[:,0]+q0, label = \"dq (g)\");\n",
        "plt.plot(du0+u0,np.array(q)[:,0], label = \"q (c)\");\n",
        "plt.title(\"q0(u0)+dq(t;u0) verses u0+du0\")\n",
        "plt.ylabel(\"Value\")\n",
        "plt.legend()\n",
        "plt.xlabel(\"u0\")"
      ],
      "execution_count": 43,
      "outputs": [
        {
          "output_type": "execute_result",
          "data": {
            "text/plain": [
              "Text(0.5, 0, 'u0')"
            ]
          },
          "metadata": {
            "tags": []
          },
          "execution_count": 43
        },
        {
          "output_type": "display_data",
          "data": {
            "image/png": "[encoded data removed]",
            "text/plain": [
              "<Figure size 720x360 with 1 Axes>"
            ]
          },
          "metadata": {
            "tags": []
          }
        }
      ]
    },
    {
      "cell_type": "code",
      "metadata": {
        "id": "N_s92_UtKigc",
        "colab_type": "code",
        "outputId": "86baa76c-8782-4a24-aeb7-e3808675f2dc",
        "colab": {
          "base_uri": "https://localhost:8080/",
          "height": 34
        }
      },
      "source": [
        "# Setups\n",
        "%matplotlib inline\n",
        "%pdb off\n",
        "import numpy as np\n",
        "# limit number of decimal places printed for floating-point numbers\n",
        "np.set_printoptions(precision=3)\n",
        "\n",
        "# scipy = scientific Python, implements operations on arrays / matrices\n",
        "import scipy as sp\n",
        "# linalg = linear algebra, implements eigenvalues, matrix inverse, etc\n",
        "from scipy import linalg as la\n",
        "# optimize = optimization, root finding, etc\n",
        "from scipy import optimize as op\n",
        "\n",
        "# produce matlab-style plots\n",
        "import matplotlib as mpl\n",
        "# increase font size on plots\n",
        "mpl.rc('font',**{'size':18})\n",
        "# use LaTeX to render symbols\n",
        "mpl.rc('text',usetex=False)\n",
        "# animation\n",
        "from matplotlib import animation as animation\n",
        "from IPython.display import HTML\n",
        "mpl.rc('animation', html='jshtml')\n",
        "# Matlab-style plotting\n",
        "import matplotlib.pyplot as plt\n",
        "\n",
        "# symbolic computation, i.e. computer algebra (like Mathematica, Wolfram Alpha)\n",
        "import sympy as sym"
      ],
      "execution_count": 5,
      "outputs": [
        {
          "output_type": "stream",
          "text": [
            "Automatic pdb calling has been turned OFF\n"
          ],
          "name": "stdout"
        }
      ]
    },
    {
      "cell_type": "code",
      "metadata": {
        "id": "B51o5_qjSHu9",
        "colab_type": "code",
        "colab": {}
      },
      "source": [
        "def simulation_SISO(f,t,x0,u,dt = 1e-4,t0 = 0.):\n",
        "  \"\"\"\n",
        "  f = system \n",
        "  u = input, type: np.array (float or function), 2*1\n",
        "  t = simulation time\n",
        "  dt = step\n",
        "  x0 = initial state condition, type: np.array (float), n(rank)*1(input)\n",
        "  t0 = starting time\n",
        "  \"\"\"\n",
        "\n",
        "  t_,x_ = [t0],[x0]\n",
        "\n",
        "  while t_[-1]+dt < t:\n",
        "    _t,_x,_u = t_[-1], x_[-1],u\n",
        "    dx = f(_t,_x,_u)*dt \n",
        "    x_.append(_x+dx)\n",
        "    t_.append(_t+dt)\n",
        "  return np.asarray(t_), np.asarray(x_)\n"
      ],
      "execution_count": 0,
      "outputs": []
    },
    {
      "cell_type": "code",
      "metadata": {
        "id": "k8Jc4J5G22dm",
        "colab_type": "code",
        "colab": {}
      },
      "source": [
        "def simulation_Linear(flinear,t,x0,u0,du0,dt = 1e-4,t0 = 0.):\n",
        "  \"\"\"\n",
        "  flinear = system \n",
        "  u = preinput, type: np.array (float or function), 2*1\n",
        "  du0 = input\n",
        "  t = simulation time\n",
        "  dt = step\n",
        "  x0 = initial state condition, type: np.array (float), n(rank)*1(input)\n",
        "  t0 = starting time\n",
        "  \"\"\"\n",
        "\n",
        "  t_,x_ = [t0],[x0]\n",
        "\n",
        "  while t_[-1]+dt < t:\n",
        "    _t,_x = t_[-1], x_[-1]\n",
        "    dx = flinear(_t,_x,u0,du0)*dt \n",
        "    x_.append(_x+dx)\n",
        "    t_.append(_t+dt)\n",
        "  return np.asarray(t_), np.asarray(x_)"
      ],
      "execution_count": 0,
      "outputs": []
    }
  ]
}